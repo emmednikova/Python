{
 "cells": [
  {
   "cell_type": "markdown",
   "id": "53e3625a",
   "metadata": {},
   "source": [
    "## Реализовать структуру данных map (аналогичную словарям в Python) с базовым набором операций. Предоставить возможность пользователю кастомизировать способ разрешения коллизий (метод цепочек и открытой адрессации)."
   ]
  },
  {
   "cell_type": "markdown",
   "id": "ba5952b7",
   "metadata": {},
   "source": [
    "В коде реализована структура данных map с возможностью выбора метода разрешения коллизий. Метод set добавляет пару ключ-значение в map, get возвращает значение по ключу, а delete удаляет пару ключ-значение."
   ]
  },
  {
   "cell_type": "code",
   "execution_count": 1,
   "id": "f7bc61c6",
   "metadata": {},
   "outputs": [],
   "source": [
    "class Map:\n",
    "    def __init__(self, size, resolution_method='chaining'):\n",
    "        self.size = size\n",
    "        self.map = [None] * size\n",
    "        self.resolution_method = resolution_method\n",
    "\n",
    "    def hash_func(self, key):\n",
    "        return hash(key) % self.size\n",
    "\n",
    "    def set(self, key, value):\n",
    "        index = self.hash_func(key)\n",
    "        \n",
    "        if self.resolution_method == 'chaining':\n",
    "            if self.map[index] is None:\n",
    "                self.map[index] = [(key, value)]\n",
    "            else:\n",
    "                self.map[index].append((key, value))\n",
    "        elif self.resolution_method == 'open addressing':\n",
    "            while self.map[index] is not None:\n",
    "                index = (index + 1) % self.size\n",
    "            self.map[index] = (key, value)\n",
    "\n",
    "    def get(self, key):\n",
    "        index = self.hash_func(key)\n",
    "\n",
    "        if self.resolution_method == 'chaining':\n",
    "            if self.map[index] is None:\n",
    "                  return None\n",
    "            for k, v in self.map[index]:\n",
    "                if k == key:\n",
    "                    return v\n",
    "            return None\n",
    "        elif self.resolution_method == 'open addressing':\n",
    "            while self.map[index] is not None:\n",
    "                k, v = self.map[index]\n",
    "                if k == key:\n",
    "                    return v\n",
    "                index = (index + 1) % self.size\n",
    "            return None\n",
    "\n",
    "    def delete(self, key):\n",
    "        index = self.hash_func(key)\n",
    "\n",
    "        if self.resolution_method == 'chaining':\n",
    "            if self.map[index] is None:\n",
    "                return\n",
    "            for i, (k, v) in enumerate(self.map[index]):\n",
    "                if k == key:\n",
    "                    del self.map[index][i]\n",
    "                    return\n",
    "        elif self.resolution_method == 'open addressing':\n",
    "            while self.map[index] is not None:\n",
    "                k, v = self.map[index]\n",
    "                if k == key:\n",
    "                    self.map[index] = None\n",
    "                    return\n",
    "                index = (index + 1) % self.size "
   ]
  },
  {
   "cell_type": "code",
   "execution_count": 3,
   "id": "b8cac83f",
   "metadata": {},
   "outputs": [
    {
     "name": "stderr",
     "output_type": "stream",
     "text": [
      "E\n",
      "======================================================================\n",
      "ERROR: C:\\Users\\1\\AppData\\Roaming\\jupyter\\runtime\\kernel-ca46711e-a5ab-4ceb-ab2f-fe14addebd48 (unittest.loader._FailedTest)\n",
      "----------------------------------------------------------------------\n",
      "AttributeError: module '__main__' has no attribute 'C:\\Users\\1\\AppData\\Roaming\\jupyter\\runtime\\kernel-ca46711e-a5ab-4ceb-ab2f-fe14addebd48'\n",
      "\n",
      "----------------------------------------------------------------------\n",
      "Ran 1 test in 0.005s\n",
      "\n",
      "FAILED (errors=1)\n"
     ]
    },
    {
     "ename": "SystemExit",
     "evalue": "True",
     "output_type": "error",
     "traceback": [
      "An exception has occurred, use %tb to see the full traceback.\n",
      "\u001b[1;31mSystemExit\u001b[0m\u001b[1;31m:\u001b[0m True\n"
     ]
    },
    {
     "name": "stderr",
     "output_type": "stream",
     "text": [
      "C:\\ProgramData\\Anaconda3\\lib\\site-packages\\IPython\\core\\interactiveshell.py:3452: UserWarning: To exit: use 'exit', 'quit', or Ctrl-D.\n",
      "  warn(\"To exit: use 'exit', 'quit', or Ctrl-D.\", stacklevel=1)\n"
     ]
    }
   ],
   "source": [
    "import unittest\n",
    "\n",
    "class TestMap(unittest.TestCase):\n",
    "    def test_map(self):\n",
    "        map1 = Map(10, 'chaining')\n",
    "        map1.set('a', 1)\n",
    "        self.assertEqual(map1.get('a'), 1)\n",
    "        map1.set('b', 2)\n",
    "        self.assertEqual(map1.get('b'), 2)\n",
    "        map1.delete('a')\n",
    "        \n",
    "        map2 = Map(10, 'open addressing')\n",
    "        map2.set('a', 1)\n",
    "        self.assertEqual(map2.get('a'), 1)\n",
    "        map2.set('b', 2)\n",
    "        self.assertEqual(map2.get('b'), 2)\n",
    "        map2.delete('a')\n",
    "        self.assertIsNone(map2.get('a'))\n",
    "\n",
    "if __name__ == '__main__':\n",
    "    unittest.main()"
   ]
  },
  {
   "cell_type": "code",
   "execution_count": null,
   "id": "4bddfb2d",
   "metadata": {},
   "outputs": [],
   "source": []
  }
 ],
 "metadata": {
  "kernelspec": {
   "display_name": "Python 3 (ipykernel)",
   "language": "python",
   "name": "python3"
  },
  "language_info": {
   "codemirror_mode": {
    "name": "ipython",
    "version": 3
   },
   "file_extension": ".py",
   "mimetype": "text/x-python",
   "name": "python",
   "nbconvert_exporter": "python",
   "pygments_lexer": "ipython3",
   "version": "3.9.7"
  }
 },
 "nbformat": 4,
 "nbformat_minor": 5
}
