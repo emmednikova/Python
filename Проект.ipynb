{
 "cells": [
  {
   "cell_type": "code",
   "execution_count": 1,
   "id": "d86be4a7",
   "metadata": {},
   "outputs": [],
   "source": [
    "import hashlib # библиотека для реализации алгоритма хэширования \n",
    "import os # библиотека для работы с файловой системой\n",
    "import time # библиотека для измерения времени\n",
    "import psutil # библиотека для фиксации нагрузки на ОЗУ и ЦП "
   ]
  },
  {
   "cell_type": "markdown",
   "id": "7ff72cd4",
   "metadata": {},
   "source": [
    "Далее введём константы, определяющие количество битовых сдвигов. Они необходимы для выполнения основных операций алгоритма:"
   ]
  },
  {
   "cell_type": "code",
   "execution_count": 2,
   "id": "06f4e31f",
   "metadata": {},
   "outputs": [],
   "source": [
    "# Константы для MD5\n",
    "S11 = 7\n",
    "S12 = 12\n",
    "S13 = 17\n",
    "S14 = 22\n",
    "S21 = 5\n",
    "S22 = 9\n",
    "S23 = 14\n",
    "S24 = 20\n",
    "S31 = 4\n",
    "S32 = 11\n",
    "S33 = 16\n",
    "S34 = 23\n",
    "S41 = 6\n",
    "S42 = 10\n",
    "S43 = 15\n",
    "S44 = 21"
   ]
  },
  {
   "cell_type": "markdown",
   "id": "7f2faf94",
   "metadata": {},
   "source": [
    "Напишем функции для преобразования:"
   ]
  },
  {
   "cell_type": "code",
   "execution_count": 3,
   "id": "2066af7b",
   "metadata": {},
   "outputs": [],
   "source": [
    "# Функция для преобразования строки в 32-битный блок\n",
    "def string_to_block(block_bytes):\n",
    "    block = [0] * 16\n",
    "    for i in range(len(block_bytes)):\n",
    "        block[i // 4] |= block_bytes[i] << ((3 - (i % 4)) * 8)\n",
    "    return block\n",
    "\n",
    "# Функция для преобразования 32-битного блока в строку\n",
    "def block_to_string(block):\n",
    "    string = ''\n",
    "    for i in range(16):\n",
    "        for j in range(4):\n",
    "            string += chr((block[i] >> ((3 - j) * 8)) & 0xFF)\n",
    "    return string"
   ]
  },
  {
   "cell_type": "markdown",
   "id": "55faf560",
   "metadata": {},
   "source": [
    "1. string_to_block: Изменяет строку в список из 16 32-битных целых чисел (блоков), разбивая строку на 4-байтовые блоки.\n",
    "2. block_to_string: Изменяет список из 16 32-битных целых чисел (блоков) обратно в строку."
   ]
  },
  {
   "cell_type": "code",
   "execution_count": 4,
   "id": "0a5f6fd9",
   "metadata": {},
   "outputs": [],
   "source": [
    "# Функция для левого циклического сдвига\n",
    "def left_rotate(x, s):\n",
    "    return ((x << s) | (x >> (32 - s))) & 0xFFFFFFFF"
   ]
  },
  {
   "cell_type": "markdown",
   "id": "d97cc1fc",
   "metadata": {},
   "source": [
    "left_rotate: выполняет левый циклический сдвиг 32-битного целого числа x на s позиций"
   ]
  },
  {
   "cell_type": "code",
   "execution_count": 5,
   "id": "a33a2c53",
   "metadata": {},
   "outputs": [],
   "source": [
    "# Функция MD5\n",
    "def md5(message):\n",
    "    if isinstance(message, str):\n",
    "        # Преобразуем сообщение в байты, если это строка\n",
    "        message_bytes = bytes(message, 'utf-8')\n",
    "    else:\n",
    "        # Если это уже байты, просто используем message\n",
    "        message_bytes = message\n",
    "\n",
    "    # Преобразуем сообщение в блоки\n",
    "    blocks = []\n",
    "    for i in range(0, len(message_bytes), 64):\n",
    "        block = string_to_block(message_bytes[i:i+64])\n",
    "        blocks.append(block)\n",
    "\n",
    "    # Дополняем последнее сообщение \n",
    "    last_block = blocks[-1]\n",
    "    last_block[14] = int(len(message_bytes) * 8)\n",
    "    blocks.append(last_block)\n",
    "\n",
    "    # Инициализируем переменные состояния\n",
    "    A = 0x67452301\n",
    "    B = 0xEFCDAB89\n",
    "    C = 0x98BADCFE\n",
    "    D = 0x10325476\n",
    "\n",
    "    # Основной цикл\n",
    "    for block in blocks:\n",
    "        # Копия блока\n",
    "        M = [0] * 16\n",
    "        for i in range(16):\n",
    "            M[i] = block[i]\n",
    "\n",
    "        # Цикл F\n",
    "        for i in range(16):\n",
    "            F = (B & C) | ((~B) & D)\n",
    "            g = i\n",
    "            S = S11\n",
    "            temp = A + F + M[g] + 0xd76aa478\n",
    "            A = left_rotate(temp, S) + B\n",
    "            D = C\n",
    "            C = B\n",
    "            B = A\n",
    "\n",
    "        # Цикл G\n",
    "        for i in range(16, 32):\n",
    "            F = (D & B) | ((~D) & C)\n",
    "            g = (5 * i + 1) % 16\n",
    "            S = S21\n",
    "            temp = A + F + M[g] + 0xe8c7b756\n",
    "            A = left_rotate(temp, S) + B\n",
    "            D = C\n",
    "            C = B\n",
    "            B = A\n",
    "\n",
    "        # Цикл H\n",
    "        for i in range(32, 48):\n",
    "            F = B ^ C ^ D\n",
    "            g = (3 * i + 5) % 16\n",
    "            S = S31\n",
    "            temp = A + F + M[g] + 0x242070db\n",
    "            A = left_rotate(temp, S) + B\n",
    "            D = C\n",
    "            C = B\n",
    "            B = A\n",
    "\n",
    "        # Цикл I\n",
    "        for i in range(48, 64):\n",
    "            F = C ^ (D | (~B))\n",
    "            g = (7 * i) % 16\n",
    "            S = S41\n",
    "            temp = A + F + M[g] + 0xc19bf174\n",
    "            A = left_rotate(temp, S) + B\n",
    "            D = C\n",
    "            C = B\n",
    "            B = A\n",
    "\n",
    "        # Обновляем переменные состояния\n",
    "        A = (A + 0x67452301) & 0xFFFFFFFF\n",
    "        B = (B + 0xEFCDAB89) & 0xFFFFFFFF\n",
    "        C = (C + 0x98BADCFE) & 0xFFFFFFFF\n",
    "        D = (D + 0x10325476) & 0xFFFFFFFF\n",
    "\n",
    "    # Форматируем хэш\n",
    "    hash_str = \"%08x%08x%08x%08x\" % (A, B, C, D)\n",
    "    return hash_str"
   ]
  },
  {
   "cell_type": "markdown",
   "id": "6f2a3e15",
   "metadata": {},
   "source": [
    "Функция md5 - это главная часть алгоритма. Что она делает:\n",
    "\n",
    "1. Разбивает входное сообщение на блоки по 64 байта (blocks).\n",
    "2. Дополняет последний блок, чтобы его длина была кратна 512 битам (last_block).\n",
    "3. Инициализирует переменные состояния A, B, C, D (четыре 32-битных слова) значениями, определенными в стандарте MD5.\n",
    "4. Выполняет четыре раунда обработки (F, G, H, I) над каждым блоком, используя циклический сдвиг, булевы операции и сложение по модулю.\n",
    "5. Обновляет значения переменных состояния после каждого блока.\n",
    "6. Форматирует окончательный хэш в 128-битное шестнадцатеричное число."
   ]
  },
  {
   "cell_type": "code",
   "execution_count": 6,
   "id": "6ef96032",
   "metadata": {},
   "outputs": [],
   "source": [
    "# Алгоритм диверсификации ключа\n",
    "def diversify_key(key, salt):\n",
    "    # Преобразование ключа и соли в байты\n",
    "    key_bytes= bytes(key, 'utf-8')\n",
    "    salt_bytes = bytes(salt, 'utf-8')\n",
    "\n",
    "    # Конкатенация ключа и соли\n",
    "    combined_bytes = key + salt\n",
    " \n",
    "    # Вычисление MD5-хэша\n",
    "    hash_value = md5(combined_bytes)\n",
    "\n",
    "    # Преобразование хэша в шестнадцатеричный формат\n",
    "    return hash_value"
   ]
  },
  {
   "cell_type": "markdown",
   "id": "7caa68ea",
   "metadata": {},
   "source": [
    "Преобразование ключа и соли в байты:\n",
    "\n",
    "1. Преобразуем ключ key в байты, используя bytes(key, 'utf-8').\n",
    "2. Преобразуем соль salt в байты, используя bytes(salt, 'utf-8').\n",
    "\n",
    "Конкатенация ключа и соли: объединяем байты ключа и соли с помощью bytes(key, 'utf-8') + bytes(salt, 'utf-8').\n",
    "\n",
    "Вычисление MD5-хэша: используем алгоритм MD5 для вычисления хэша полученной конкатенации.\n",
    "\n",
    "Преобразование хэша в строку: преобразуем полученный хэш в шестнадцатеричный формат, чтобы его можно было использовать в качестве диверсифицированного ключа."
   ]
  },
  {
   "cell_type": "markdown",
   "id": "75d0818c",
   "metadata": {},
   "source": [
    "Cоль (salt) - это дополнительная строка, добавляемая к ключу (key) перед хэшированием в функции diversify_key.\n",
    "\n",
    "#### Зачем нужна соль?\n",
    "\n",
    "Соль используется для повышения безопасности алгоритма хэширования. Она делает хэширование более устойчивым к атакам по словарю.\n",
    "\n",
    "#### Как работает соль?\n",
    "\n",
    "1. Атаки по словарю: В этих атаках злоумышленник создает таблицу с хэшами распространенных паролей.\n",
    "\n",
    "2. Без соли: Если пароль хэшируется без соли, злоумышленник может легко проверить, совпадает ли хэш атакуемого пароля с одним из хэшей в таблице.\n",
    "\n",
    "3. С солью: Соль добавляет к ключу случайный элемент, делая хэш уникальным даже для одинаковых паролей.\n",
    "Вместо того, чтобы хэшировать только пароль, алгоритм хэширует пароль + соль.\n",
    "Злоумышленник не сможет использовать таблицу с хэшами паролей, потому что хэширование включает случайную соль."
   ]
  },
  {
   "cell_type": "markdown",
   "id": "2693712a",
   "metadata": {},
   "source": [
    "Далее пишем функции для хэширования:"
   ]
  },
  {
   "cell_type": "code",
   "execution_count": 7,
   "id": "688a04b9",
   "metadata": {},
   "outputs": [],
   "source": [
    "# Функция для хэширования блока данных\n",
    "def hash_block(block, key):\n",
    "    # Преобразуем ключ в байты\n",
    "    key = key.encode()\n",
    "    return md5(key + block.encode())\n",
    "\n",
    "# Функция для хэширования файла\n",
    "def hash_file(filename, key):\n",
    "    with open(filename, 'rb') as f:\n",
    "        file_content = f.read()\n",
    "\n",
    "    # Чтение ключевого материала как байтов\n",
    "    with open(\"key_material.txt\", 'rb') as f: \n",
    "        key_material = f.read().strip()  # Убираем пробелы и преобразуем в байты\n",
    "\n",
    "    return md5(key_material + file_content)  \n",
    "\n",
    "\n",
    "# Функция для хэширования директории (рекурсивно)\n",
    "def hash_directory(directory, key):\n",
    "    hash_values = []\n",
    "    for root, dirs, files in os.walk(directory):\n",
    "        for file in files:\n",
    "            file_path = os.path.join(root, file)\n",
    "            hash_values.append(hash_file(file_path, key))\n",
    "        for dir in dirs:\n",
    "            dir_path = os.path.join(root, dir)\n",
    "            hash_values.extend(hash_directory(dir_path, key))\n",
    "    return hash_values"
   ]
  },
  {
   "cell_type": "markdown",
   "id": "8e69ea6c",
   "metadata": {},
   "source": [
    "1. hash_block: объединяет ключ key с блоком данных block и вычисляет MD5-хэш результата."
   ]
  },
  {
   "cell_type": "markdown",
   "id": "80aa752f",
   "metadata": {},
   "source": [
    "2. hash_file: считывает содержимое файла filename, объединяет ключ key с содержимым файла и вычисляет MD5-хэш результата."
   ]
  },
  {
   "cell_type": "markdown",
   "id": "39530eae",
   "metadata": {},
   "source": [
    "3. hash_directory: рекурсивно переходит по каталогу directory, хэширует каждый файл с помощью hash_file и каждую поддиректорию с помощью hash_directory, возвращает список хэшей для всех файлов и поддиректорий."
   ]
  },
  {
   "cell_type": "code",
   "execution_count": 8,
   "id": "a460400c",
   "metadata": {},
   "outputs": [],
   "source": [
    "# Генерация ключевого материала\n",
    "def generate_key_material(filename, key_length=32):\n",
    "    key_material = os.urandom(key_length)\n",
    "    with open(filename, 'wb') as f:\n",
    "        f.write(key_material.hex().encode())  # Записываем в шестнадцатеричном формате"
   ]
  },
  {
   "cell_type": "markdown",
   "id": "19c4c655",
   "metadata": {},
   "source": [
    "generate_key_material: генерирует случайный байтовый массив (key_material) заданной длины (key_length) и сохраняет этот массив в файл filename."
   ]
  },
  {
   "cell_type": "code",
   "execution_count": 9,
   "id": "8ec92fb6",
   "metadata": {},
   "outputs": [
    {
     "name": "stdout",
     "output_type": "stream",
     "text": [
      "Хэширование блоков данных:\n",
      "  Блок размером 1 байт: 0.000999 сек\n",
      "    Изменение ЦП: -7.6%\n",
      "    Изменение ОЗУ: -0.10000000000000142%\n",
      "  Блок размером 1000 байт: 0.006013 сек\n",
      "    Изменение ЦП: -10.7%\n",
      "    Изменение ОЗУ: -0.19999999999999574%\n",
      "  Блок размером 1000000 байт: 1.639045 сек\n",
      "    Изменение ЦП: -2.8000000000000003%\n",
      "    Изменение ОЗУ: 0.10000000000000142%\n",
      "\n",
      "Хэширование файлов:\n",
      "  Файл размером 1 Мб: 1.69 сек\n",
      "    Изменение ЦП: 9.3%\n",
      "    Изменение ОЗУ: 0.20000000000000284%\n",
      "  Файл размером 100 Мб: 190.98 сек\n",
      "    Изменение ЦП: -10.5%\n",
      "    Изменение ОЗУ: 3.1000000000000014%\n",
      "  Файл размером 1000 Мб: 7892.58 сек\n",
      "    Изменение ЦП: -2.299999999999999%\n",
      "    Изменение ОЗУ: -27.799999999999997%\n"
     ]
    }
   ],
   "source": [
    "# Функция для измерения времени выполнения\n",
    "def time_hashing(func, *args):\n",
    "    start_time = time.time()\n",
    "    result = func(*args)\n",
    "    end_time = time.time()\n",
    "    return result, end_time - start_time\n",
    "\n",
    "# Хэширование блоков данных\n",
    "key = \"SecretKey\"\n",
    "\n",
    "print(\"Хэширование блоков данных:\")\n",
    "for block_size in [1, 10**3, 10**6]:\n",
    "    # Измеряем нагрузку перед хэшированием\n",
    "    cpu_usage_before = psutil.cpu_percent(interval=1)\n",
    "    memory_usage_before = psutil.virtual_memory().percent\n",
    "    \n",
    "    data_block = \"a\" * block_size\n",
    "    block_hash, duration = time_hashing(hash_block, data_block, key)\n",
    "    \n",
    "    # Измеряем нагрузку после хэширования\n",
    "    cpu_usage_after = psutil.cpu_percent(interval=1)\n",
    "    memory_usage_after = psutil.virtual_memory().percent\n",
    "\n",
    "    print(f\"  Блок размером {block_size} байт: {duration:.6f} сек\")\n",
    "    print(f\"    Изменение ЦП: {cpu_usage_after - cpu_usage_before}%\")\n",
    "    print(f\"    Изменение ОЗУ: {memory_usage_after - memory_usage_before}%\")\n",
    "\n",
    "# Хэширование файлов\n",
    "print(\"\\nХэширование файлов:\")\n",
    "for file_size in [1, 100, 1000]:\n",
    "    # Измеряем нагрузку перед хэшированием\n",
    "    cpu_usage_before = psutil.cpu_percent(interval=1)\n",
    "    memory_usage_before = psutil.virtual_memory().percent\n",
    "\n",
    "    file_content = \"a\" * (file_size * 1024 * 1024)\n",
    "    with open(f\"temp_file_{file_size}mb.txt\", 'wb') as f:\n",
    "        f.write(file_content.encode())\n",
    "    file_hash, duration = time_hashing(hash_file, f\"temp_file_{file_size}mb.txt\", key)\n",
    "    \n",
    "    # Измеряем нагрузку после хэширования\n",
    "    cpu_usage_after = psutil.cpu_percent(interval=1)\n",
    "    memory_usage_after = psutil.virtual_memory().percent\n",
    "\n",
    "    print(f\"  Файл размером {file_size} Мб: {duration:.2f} сек\")\n",
    "    print(f\"    Изменение ЦП: {cpu_usage_after - cpu_usage_before}%\")\n",
    "    print(f\"    Изменение ОЗУ: {memory_usage_after - memory_usage_before}%\")\n",
    "    os.remove(f\"temp_file_{file_size}mb.txt\")"
   ]
  },
  {
   "cell_type": "code",
   "execution_count": null,
   "id": "195b2a77",
   "metadata": {},
   "outputs": [
    {
     "name": "stdout",
     "output_type": "stream",
     "text": [
      "Хэширование блоков данных:\n",
      "  Блок размером 1 байт: 0.000000 сек\n",
      "    Изменение ЦП: -8.500000000000002%\n",
      "    Изменение ОЗУ: 0.30000000000000426%\n",
      "  Блок размером 1000 байт: 0.012991 сек\n",
      "    Изменение ЦП: 0.10000000000000053%\n",
      "    Изменение ОЗУ: 0.0%\n",
      "  Блок размером 1000000 байт: 1.823951 сек\n",
      "    Изменение ЦП: -5.6%\n",
      "    Изменение ОЗУ: -0.20000000000000284%\n",
      "\n",
      "Хэширование файлов:\n",
      "  Файл размером 1 Мб: 1.64 сек\n",
      "    Изменение ЦП: -0.7%\n",
      "    Изменение ОЗУ: -0.6000000000000014%\n",
      "  Файл размером 100 Мб: 187.06 сек\n",
      "    Изменение ЦП: -4.7%\n",
      "    Изменение ОЗУ: -1.2999999999999972%\n"
     ]
    }
   ],
   "source": [
    "# Функция для измерения времени выполнения\n",
    "def time_hashing(func, *args):\n",
    "    start_time = time.time()\n",
    "    result = func(*args)\n",
    "    end_time = time.time()\n",
    "    return result, end_time - start_time\n",
    "\n",
    "# Хэширование блоков данных\n",
    "key = \"SecretKey\"\n",
    "\n",
    "print(\"Хэширование блоков данных:\")\n",
    "for block_size in [1, 10**3, 10**6]:\n",
    "    # Измеряем нагрузку перед хэшированием\n",
    "    cpu_usage_before = psutil.cpu_percent(interval=5)  # Увеличиваем интервал\n",
    "    memory_usage_before = psutil.virtual_memory().percent\n",
    "\n",
    "    data_block = \"a\" * block_size\n",
    "    block_hash, duration = time_hashing(hash_block, data_block, key)\n",
    "\n",
    "    # Измеряем нагрузку после хэширования\n",
    "    cpu_usage_after = psutil.cpu_percent(interval=5)  # Увеличиваем интервал\n",
    "    memory_usage_after = psutil.virtual_memory().percent\n",
    "\n",
    "    print(f\"  Блок размером {block_size} байт: {duration:.6f} сек\")\n",
    "    print(f\"    Изменение ЦП: {cpu_usage_after - cpu_usage_before}%\")\n",
    "    print(f\"    Изменение ОЗУ: {memory_usage_after - memory_usage_before}%\")\n",
    "\n",
    "# Хэширование файлов\n",
    "print(\"\\nХэширование файлов:\")\n",
    "for file_size in [1, 100, 1000]:\n",
    "    # Измеряем нагрузку перед хэшированием\n",
    "    cpu_usage_before = psutil.cpu_percent(interval=5)  # Увеличиваем интервал\n",
    "    memory_usage_before = psutil.virtual_memory().percent\n",
    "\n",
    "    file_content = \"a\" * (file_size * 1024 * 1024)\n",
    "    with open(f\"temp_file_{file_size}mb.txt\", 'wb') as f:\n",
    "        f.write(file_content.encode())\n",
    "    file_hash, duration = time_hashing(hash_file, f\"temp_file_{file_size}mb.txt\", key)\n",
    "\n",
    "    # Измеряем нагрузку после хэширования\n",
    "    cpu_usage_after = psutil.cpu_percent(interval=5)  # Увеличиваем интервал\n",
    "    memory_usage_after = psutil.virtual_memory().percent\n",
    "\n",
    "    print(f\"  Файл размером {file_size} Мб: {duration:.2f} сек\")\n",
    "    print(f\"    Изменение ЦП: {cpu_usage_after - cpu_usage_before}%\")\n",
    "    print(f\"    Изменение ОЗУ: {memory_usage_after - memory_usage_before}%\")\n",
    "    os.remove(f\"temp_file_{file_size}mb.txt\")"
   ]
  },
  {
   "cell_type": "markdown",
   "id": "8570d1dd",
   "metadata": {},
   "source": [
    "1. Функция time_hashing(func, *args): Эта функция принимает функцию (func) и ее аргументы (*args). Она записывает начальное время, вызывает функцию с переданными аргументами, записывает конечное время и возвращает результат функции и продолжительность выполнения.\n",
    "\n",
    "\n",
    "2. Измерение времени хэширования блоков: Используется цикл for, чтобы перебирать три размера блока (1, 10^3, 10^6 байт). Создается блок данных с помощью data_block = \"a\" * block_size. Вызывается функция time_hashing для hash_block с блоком данных и ключом. Выводится время выполнения с точностью до шести знаков после запятой. \n",
    "\n",
    "\n",
    "3. Измерение времени хэширования файлов: Используется цикл for, чтобы перебирать три размера файла (1, 100, 1000 Мб). Создается временный файл с помощью with open(...) и записывается в него содержимое (file_content = \"a\" * (file_size * 1024 * 1024)). Вызывается функция time_hashing для hash_file с именем файла и ключом. Выводится время выполнения с точностью до двух знаков после запятой. Удаляется временный файл с помощью os.remove(...)."
   ]
  },
  {
   "cell_type": "code",
   "execution_count": 36,
   "id": "15b2e430",
   "metadata": {},
   "outputs": [
    {
     "name": "stdout",
     "output_type": "stream",
     "text": [
      "Хэш блока: ba4240a242cac92a66b29a45b9def5f4\n",
      "Хэш файла: 0b0a954f93931dd7c96bd45040e34c03\n",
      "Хэши файлов в директории: ['b6d5ff493f5e87d1e84bb9720953d6fa', '0b0a954f93931dd7c96bd45040e34c03', '5e83e86fe70c70f74d06f7f298caa050']\n",
      "Диверсифицированный ключ: 404e32f1c8d6bb79eeb4aafd662c2280\n",
      "Ключевой материал сгенерирован в key_material.txt\n"
     ]
    }
   ],
   "source": [
    "# Примеры использования\n",
    "if __name__ == '__main__':\n",
    "    # Хэширование блока данных\n",
    "    data_block = \"Привет, мир!\"\n",
    "    key = \"SecretKey\"\n",
    "    block_hash = hash_block(data_block, key)\n",
    "    print(f\"Хэш блока: {block_hash}\")\n",
    "    \n",
    "    # Генерация ключевого материала (перед чтением из файла)\n",
    "    generate_key_material(\"key_material.txt\")\n",
    "\n",
    "    # Хэширование файла\n",
    "    file_path = \"Рональд.txt\"\n",
    "    file_hash = hash_file(file_path, key)\n",
    "    print(f\"Хэш файла: {file_hash}\")\n",
    "\n",
    "    # Хэширование директории\n",
    "    directory_path = \"Проект\"\n",
    "    directory_hashes = hash_directory(directory_path, key)\n",
    "    print(f\"Хэши файлов в директории: {directory_hashes}\")\n",
    "\n",
    "    # Диверсификация ключа\n",
    "    salt = \"SaltValue\"\n",
    "    diversified_key = diversify_key(key, salt)\n",
    "    print(f\"Диверсифицированный ключ: {diversified_key}\")\n",
    "\n",
    "    # Генерация ключевого материала\n",
    "    print(\"Ключевой материал сгенерирован в key_material.txt\")"
   ]
  },
  {
   "cell_type": "markdown",
   "id": "67f01b75",
   "metadata": {},
   "source": [
    "В блоке с if показано, как использовать функции хэширования, диверсификации ключа и генерации ключевого материала."
   ]
  },
  {
   "cell_type": "code",
   "execution_count": null,
   "id": "e92ef331",
   "metadata": {},
   "outputs": [],
   "source": []
  }
 ],
 "metadata": {
  "kernelspec": {
   "display_name": "Python 3 (ipykernel)",
   "language": "python",
   "name": "python3"
  },
  "language_info": {
   "codemirror_mode": {
    "name": "ipython",
    "version": 3
   },
   "file_extension": ".py",
   "mimetype": "text/x-python",
   "name": "python",
   "nbconvert_exporter": "python",
   "pygments_lexer": "ipython3",
   "version": "3.9.7"
  }
 },
 "nbformat": 4,
 "nbformat_minor": 5
}
