{
 "cells": [
  {
   "cell_type": "markdown",
   "id": "57a74f02",
   "metadata": {},
   "source": [
    "## Реализовать алгоритмы поиска подстрок:\n",
    "\n",
    "### a) Алгоритм Бойера-Мура.\n",
    "### b) Алгоритм Кнута-Морриса-Пратта."
   ]
  },
  {
   "cell_type": "markdown",
   "id": "0c212ca9",
   "metadata": {},
   "source": [
    "Алгоритм Бойера-Мура использует предварительно вычисленную таблицу смещений для быстрого сравнения подстроки с текстом. Он сначала ищет символ в тексте, который не принадлежит подстроке, и затем использует таблицу смещений для перехода к следующему возможному вхождению. "
   ]
  },
  {
   "cell_type": "code",
   "execution_count": 1,
   "id": "f18f12cb",
   "metadata": {},
   "outputs": [],
   "source": [
    "#  Функция heuristic(pattern) создает таблицу bad_char, в которой каждому символу из строки pattern \n",
    "# сопоставляется его последнее вхождение в эту строку (индекс символа)\n",
    "# это необходимо для эффективного перемещения шаблона относительно текста.\n",
    "\n",
    "#  В функции boyer_moore(text, pattern):\n",
    "#    - m и n - длины шаблона и текста соответственно.\n",
    "#    - Создается таблица bad_char с помощью вызова heuristic(pattern).\n",
    "#    - Переменная shift используется для отслеживания позиции в тексте, с которой начинается проверка.\n",
    "#    - Затем выполняется поиск шаблона в тексте: сравниваются символы с конца шаблона и текста, сдвигаясь влево. \n",
    "#      Если обнаружено несовпадение, вычисляется смещение с помощью таблицы bad_char и максимального значения между 1 \n",
    "#      и разности текущего индекса и индекса символа в таблице bad_char.\n",
    "#    - Если шаблон найден, возвращается позиция в тексте, с которой он начинается. В противном случае возвращается -1.\n",
    "\n",
    "def heuristic(pattern):\n",
    "    bad_char = {}\n",
    "    for i in range(len(pattern)):\n",
    "        bad_char[pattern[i]] = i\n",
    "    return bad_char\n",
    "\n",
    "def boyer_moore(text, pattern):\n",
    "    m = len(pattern)\n",
    "    n = len(text)\n",
    "    bad_char = heuristic(pattern)\n",
    "    \n",
    "    shift = 0\n",
    "    while shift <= n - m:\n",
    "        j = m - 1\n",
    "        while j >= 0 and pattern[j] == text[shift + j]:\n",
    "            j -= 1\n",
    "        if j < 0:\n",
    "            return shift\n",
    "        else:\n",
    "            shift += max(1, j - bad_char.get(text[shift + j], -1))\n",
    "    \n",
    "    return -1"
   ]
  },
  {
   "cell_type": "markdown",
   "id": "b6db3a6f",
   "metadata": {},
   "source": [
    "Алгоритм Кнута-Морриса-Пратта основан на принципе \"отката\", когда при несоответствии символов в подстроке и тексте мы используем уже известную информацию о вхождениях подстроки в самой себе."
   ]
  },
  {
   "cell_type": "code",
   "execution_count": 2,
   "id": "6ca881fc",
   "metadata": {},
   "outputs": [],
   "source": [
    "# Функция prefix_function(pattern) вычисляет префикс-функцию для строки pattern. \n",
    "# Префикс-функция позволяет определить наибольший префикс строки, который одновременно является её суффиксом. \n",
    "# Это используется для эффективного перемещения в строке при сравнении с текстом.\n",
    "\n",
    "#  Функция kmp_search(text, pattern) выполняет поиск подстроки pattern в тексте text. \n",
    "#    - Вычисляются длины текста n и шаблона m.\n",
    "#    - Вызывается prefix_function(pattern) для получения префикс-функции.\n",
    "#    - Переменная q используется для отслеживания длины совпавшего префикса в шаблоне.\n",
    "#    - Производится сравнение символов шаблона и текста:\n",
    "#      - Если символы не совпадают, используется префикс-функция для вычисления следующей позиции q, \n",
    "#        на которой можно продолжить сравнение.\n",
    "#      - Если символы совпадают, увеличиваем q.\n",
    "#    - Если q равно длине шаблона m, это означает, что шаблон найден в тексте, и возвращается позиция начала вхождения.\n",
    "#    - Если не найдено, возвращается -1.\n",
    "\n",
    "def prefix_function(pattern):\n",
    "    m = len(pattern)\n",
    "    pi = [0] * m\n",
    "    k = 0\n",
    "    for q in range(1, m):\n",
    "        while k > 0 and pattern[k] != pattern[q]:\n",
    "            k = pi[k - 1]\n",
    "        if pattern[k] == pattern[q]:\n",
    "            k += 1\n",
    "        pi[q] = k\n",
    "    return pi\n",
    "\n",
    "def kmp_search(text, pattern):\n",
    "    n = len(text)\n",
    "    m = len(pattern)\n",
    "    pi = prefix_function(pattern)\n",
    "    \n",
    "    q = 0\n",
    "    for i in range(n):\n",
    "        while q > 0 and pattern[q] != text[i]:\n",
    "            q = pi[q - 1]\n",
    "        if pattern[q] == text[i]:\n",
    "            q += 1\n",
    "        if q == m:\n",
    "            return i - m + 1\n",
    "    return -1"
   ]
  },
  {
   "cell_type": "markdown",
   "id": "3367a916",
   "metadata": {},
   "source": [
    "Далее проверка unittest"
   ]
  },
  {
   "cell_type": "code",
   "execution_count": 3,
   "id": "079e2e79",
   "metadata": {},
   "outputs": [
    {
     "name": "stderr",
     "output_type": "stream",
     "text": [
      "E\n",
      "======================================================================\n",
      "ERROR: C:\\Users\\1\\AppData\\Roaming\\jupyter\\runtime\\kernel-9502818e-f4a3-435b-8fd1-0dbf262be605 (unittest.loader._FailedTest)\n",
      "----------------------------------------------------------------------\n",
      "AttributeError: module '__main__' has no attribute 'C:\\Users\\1\\AppData\\Roaming\\jupyter\\runtime\\kernel-9502818e-f4a3-435b-8fd1-0dbf262be605'\n",
      "\n",
      "----------------------------------------------------------------------\n",
      "Ran 1 test in 0.004s\n",
      "\n",
      "FAILED (errors=1)\n"
     ]
    },
    {
     "ename": "SystemExit",
     "evalue": "True",
     "output_type": "error",
     "traceback": [
      "An exception has occurred, use %tb to see the full traceback.\n",
      "\u001b[1;31mSystemExit\u001b[0m\u001b[1;31m:\u001b[0m True\n"
     ]
    },
    {
     "name": "stderr",
     "output_type": "stream",
     "text": [
      "C:\\ProgramData\\Anaconda3\\lib\\site-packages\\IPython\\core\\interactiveshell.py:3452: UserWarning: To exit: use 'exit', 'quit', or Ctrl-D.\n",
      "  warn(\"To exit: use 'exit', 'quit', or Ctrl-D.\", stacklevel=1)\n"
     ]
    }
   ],
   "source": [
    "import unittest\n",
    "\n",
    "class TestAlgorithms(unittest.TestCase):\n",
    "    \n",
    "    def test_boyer_moore(self):\n",
    "        text = \"ABAAABCD\"\n",
    "        pattern = \"ABC\"\n",
    "        self.assertEqual(boyer_moore(text, pattern), 4)\n",
    "    \n",
    "    def test_kmp_search(self):\n",
    "        text = \"ABABDABACDABABCABAB\"\n",
    "        pattern = \"ABABCABAB\"\n",
    "        self.assertEqual(kmp_search(text, pattern), 14)\n",
    "\n",
    "if __name__ == '__main__':\n",
    "    unittest.main()"
   ]
  }
 ],
 "metadata": {
  "kernelspec": {
   "display_name": "Python 3 (ipykernel)",
   "language": "python",
   "name": "python3"
  },
  "language_info": {
   "codemirror_mode": {
    "name": "ipython",
    "version": 3
   },
   "file_extension": ".py",
   "mimetype": "text/x-python",
   "name": "python",
   "nbconvert_exporter": "python",
   "pygments_lexer": "ipython3",
   "version": "3.9.7"
  }
 },
 "nbformat": 4,
 "nbformat_minor": 5
}
