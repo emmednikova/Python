{
 "cells": [
  {
   "cell_type": "markdown",
   "id": "e45d3057",
   "metadata": {},
   "source": [
    "## Реализовать алгоритмы поиска подстрок:\n",
    "\n",
    "### а) Алгоритм Рабина-Карпа.\n",
    "### б) Алгоритм на основе конечного автомата."
   ]
  },
  {
   "cell_type": "markdown",
   "id": "6527092e",
   "metadata": {},
   "source": [
    "Для первого алгоритма характерно следующее:\n",
    "\n",
    "1. Вычисляется хэш подстроки и хэш каждого возможного сдвига подстроки в строке.\n",
    "2. Если хэши совпадают, проводится дополнительная проверка для исключения ложных срабатываний."
   ]
  },
  {
   "cell_type": "code",
   "execution_count": 1,
   "id": "ff205fb2",
   "metadata": {},
   "outputs": [],
   "source": [
    "# Функция hash_str(s) - это вспомогательная функция, вычисляющая хэш строки s. \n",
    "# В данной реализации хэш строки рассчитывается по символам: каждый символ преобразуется в его ASCII-код \n",
    "# и добавляется к предыдущему хэшу с умножением на 256\n",
    "\n",
    "#  В основной функции rabin_karp(text, pattern):\n",
    "#    - Вычисляются длины входного текста n и шаблона m, а также хэш шаблона pattern_hash и хэш начальной подстроки \n",
    "#       текста text[:m].\n",
    "#    - Проходим по тексту с шагом от 0 до n - m + 1. На каждом шаге сравниваем хэши текущей подстроки текста и шаблона:\n",
    "#      - Если хэши совпадают и сами подстроки совпадают, возвращаем индекс начала вхождения шаблона в текст.\n",
    "#      - Если подстрока не совпадает, пересчитываем хэш для следующей подстроки, вычитая ASCII-код символа, \n",
    "#        который уходит из окна, и добавляя новый символ.\n",
    "#    - Если шаблон не найден, возвращается -1.\n",
    "\n",
    "\n",
    "def rabin_karp(text, pattern):\n",
    "    # Функция для вычисления хэша строки\n",
    "    def hash_str(s):\n",
    "        h = 0\n",
    "        for char in s:\n",
    "            h = ord(char) + h * 256\n",
    "        return h\n",
    "    \n",
    "    n = len(text)\n",
    "    m = len(pattern)\n",
    "    pattern_hash = hash_str(pattern)\n",
    "    text_hash = hash_str(text[:m])\n",
    "    \n",
    "    # Проход по строке и сравнивание хэшей\n",
    "    for i in range(n - m + 1):\n",
    "        if text_hash == pattern_hash and text[i:i+m] == pattern:\n",
    "            return i\n",
    "        if i < n - m:\n",
    "            text_hash = ord(text[i+m]) + (text_hash - ord(text[i]) * 256) * 256\n",
    "    \n",
    "    return -1"
   ]
  },
  {
   "cell_type": "markdown",
   "id": "7f596f8a",
   "metadata": {},
   "source": [
    "Второй алгоритм работает путём предварительной обработки подстроки и создания автомата для сопоставления символов подстроки с текстом."
   ]
  },
  {
   "cell_type": "code",
   "execution_count": 2,
   "id": "2351bfc3",
   "metadata": {},
   "outputs": [],
   "source": [
    "# Функция tr_table(pattern) строит таблицу переходов для конечного автомата, основываясь на шаблоне pattern. \n",
    "# В таблице указывается, куда переходить из каждого состояния автомата при определенном символе входной строки.\n",
    "#    - Создается таблица tr, содержащая словари для каждого состояния и каждого возможного символа.\n",
    "#    - Инициализируется начальное состояние 0 и переменная prefix для отслеживания префикса.\n",
    "#    - Для каждого состояния автомата проверяется, какое состояние достигается при текущем символе:\n",
    "#      - Если символ совпадает с символом шаблона, переходим в следующее состояние.\n",
    "#      - Иначе переходим в состояние, соответствующее наибольшему совпадающему префиксу шаблона.\n",
    "#    - Возвращается построенная таблица tr.\n",
    "\n",
    "#  В главной функции automaton(text, pattern) осуществляется поиск шаблона pattern в тексте text \n",
    "# с использованием построенного конечного автомата.\n",
    "#    - Задаются длины текста n и шаблона m.\n",
    "#    - Строится таблица переходов tr на основе шаблона.\n",
    "#    - Устанавливается начальное состояние автомата на 0.\n",
    "#    - Проходим по каждому символу входного текста:\n",
    "#      - Обновляем текущее состояние автомата путем считывания символа.\n",
    "#      - Если мы достигли конечного состояния m, возвращаем позицию начала вхождения шаблона в текст (индекс i - m + 1).\n",
    "#    - Если шаблон не найден, функция возвращает -1.\n",
    "\n",
    "\n",
    "def automaton(text, pattern):\n",
    "    def tr_table(pattern):\n",
    "        tr = [{char: 0 for char in set(pattern)} for _ in range(len(pattern) + 1)]\n",
    "        tr[0][pattern[0]] = 1\n",
    "        prefix = 0\n",
    "        \n",
    "        for state in range(1, len(pattern) + 1):\n",
    "            for char in tr[state].keys():\n",
    "                if state < len(pattern) and char == pattern[state]:\n",
    "                    tr[state][char] = state + 1\n",
    "                else:\n",
    "                    tr[state][char] = tr[prefix][char]\n",
    "                    \n",
    "            prefix = tr[prefix][pattern[state - 1]]\n",
    "        \n",
    "        return tr\n",
    "    \n",
    "    n = len(text)\n",
    "    m = len(pattern)\n",
    "    tr = tr_table(pattern)\n",
    "    state = 0\n",
    "    \n",
    "    for i in range(n):\n",
    "        state = tr[state].get(text[i], 0)\n",
    "        if state == m:\n",
    "            return i - m + 1\n",
    "    \n",
    "    return -1"
   ]
  },
  {
   "cell_type": "markdown",
   "id": "38962fd8",
   "metadata": {},
   "source": [
    "Проверка с использованием unittest"
   ]
  },
  {
   "cell_type": "code",
   "execution_count": 3,
   "id": "f9b7223d",
   "metadata": {},
   "outputs": [
    {
     "name": "stderr",
     "output_type": "stream",
     "text": [
      "E\n",
      "======================================================================\n",
      "ERROR: C:\\Users\\1\\AppData\\Roaming\\jupyter\\runtime\\kernel-68a914d7-9f65-41cb-a19b-cb07dad5c307 (unittest.loader._FailedTest)\n",
      "----------------------------------------------------------------------\n",
      "AttributeError: module '__main__' has no attribute 'C:\\Users\\1\\AppData\\Roaming\\jupyter\\runtime\\kernel-68a914d7-9f65-41cb-a19b-cb07dad5c307'\n",
      "\n",
      "----------------------------------------------------------------------\n",
      "Ran 1 test in 0.004s\n",
      "\n",
      "FAILED (errors=1)\n"
     ]
    },
    {
     "ename": "SystemExit",
     "evalue": "True",
     "output_type": "error",
     "traceback": [
      "An exception has occurred, use %tb to see the full traceback.\n",
      "\u001b[1;31mSystemExit\u001b[0m\u001b[1;31m:\u001b[0m True\n"
     ]
    },
    {
     "name": "stderr",
     "output_type": "stream",
     "text": [
      "C:\\ProgramData\\Anaconda3\\lib\\site-packages\\IPython\\core\\interactiveshell.py:3452: UserWarning: To exit: use 'exit', 'quit', or Ctrl-D.\n",
      "  warn(\"To exit: use 'exit', 'quit', or Ctrl-D.\", stacklevel=1)\n"
     ]
    }
   ],
   "source": [
    "import unittest\n",
    "\n",
    "class TestAlgorithms(unittest.TestCase):\n",
    "    \n",
    "    def test_rabin_karp(self):\n",
    "        self.assertEqual(rabin_karp(\"hello\", \"ll\"), 2)\n",
    "        self.assertEqual(rabin_karp(\"abcdef\", \"cde\"), 2)\n",
    "        self.assertEqual(rabin_karp(\"abcde\", \"fg\"), -1)\n",
    "    \n",
    "    def test_automaton(self):\n",
    "        self.assertEqual(automaton(\"hello\", \"ll\"), 2)\n",
    "        self.assertEqual(automaton(\"abcdef\", \"cde\"), 2)\n",
    "        self.assertEqual(automaton(\"abcde\", \"fg\"), -1)\n",
    "\n",
    "if __name__ == '__main__':\n",
    "    unittest.main()\n"
   ]
  }
 ],
 "metadata": {
  "kernelspec": {
   "display_name": "Python 3 (ipykernel)",
   "language": "python",
   "name": "python3"
  },
  "language_info": {
   "codemirror_mode": {
    "name": "ipython",
    "version": 3
   },
   "file_extension": ".py",
   "mimetype": "text/x-python",
   "name": "python",
   "nbconvert_exporter": "python",
   "pygments_lexer": "ipython3",
   "version": "3.9.7"
  }
 },
 "nbformat": 4,
 "nbformat_minor": 5
}
