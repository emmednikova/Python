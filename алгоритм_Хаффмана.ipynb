{
 "cells": [
  {
   "cell_type": "markdown",
   "id": "22277008",
   "metadata": {},
   "source": [
    "## Реализовать алгоритм кодирования Хаффмана."
   ]
  },
  {
   "cell_type": "markdown",
   "id": "72dde908",
   "metadata": {},
   "source": [
    " Создание класса Node для представления узла в двоичном дереве"
   ]
  },
  {
   "cell_type": "code",
   "execution_count": 2,
   "id": "2c359f98",
   "metadata": {},
   "outputs": [],
   "source": [
    "class Node:\n",
    "    def __init__(self, value, frequency):\n",
    "        self.value = value\n",
    "        self.frequency = frequency\n",
    "        self.left = None\n",
    "        self.right = None\n",
    "\n",
    "    def __lt__(self, other):\n",
    "        return self.frequency < other.frequency"
   ]
  },
  {
   "cell_type": "markdown",
   "id": "b6009cec",
   "metadata": {},
   "source": [
    "Создание функции для построения дерева Хаффмана"
   ]
  },
  {
   "cell_type": "code",
   "execution_count": 3,
   "id": "3c646baa",
   "metadata": {},
   "outputs": [],
   "source": [
    "import heapq\n",
    "\n",
    "def huffman_tree(freq_dict):\n",
    "    heap = [Node(key, freq) for key, freq in freq_dict.items()]\n",
    "    heapq.heapify(heap)\n",
    "\n",
    "    while len(heap) > 1:\n",
    "        node1 = heapq.heappop(heap)\n",
    "        node2 = heapq.heappop(heap)\n",
    "\n",
    "        new_node = Node(None, node1.frequency + node2.frequency)\n",
    "        new_node.left = node1\n",
    "        new_node.right = node2\n",
    "\n",
    "        heapq.heappush(heap, new_node)\n",
    "\n",
    "    return heap[0]"
   ]
  },
  {
   "cell_type": "markdown",
   "id": "b77ac59a",
   "metadata": {},
   "source": [
    "Создание функции для генерации кодов символов на основе дерева Хаффмана"
   ]
  },
  {
   "cell_type": "code",
   "execution_count": 4,
   "id": "c6498c30",
   "metadata": {},
   "outputs": [],
   "source": [
    "def huffman_codes(root):\n",
    "    codes = {}\n",
    "\n",
    "    def traverse(node, code):\n",
    "        if node.value:\n",
    "            codes[node.value] = code\n",
    "        else:\n",
    "            traverse(node.left, code + '0')\n",
    "            traverse(node.right, code + '1')\n",
    "\n",
    "    traverse(root, '')\n",
    "    return codes"
   ]
  },
  {
   "cell_type": "markdown",
   "id": "ea75a06c",
   "metadata": {},
   "source": [
    "Пример использования"
   ]
  },
  {
   "cell_type": "code",
   "execution_count": 5,
   "id": "7a253332",
   "metadata": {},
   "outputs": [
    {
     "name": "stdout",
     "output_type": "stream",
     "text": [
      "e: 00\n",
      "h: 01\n",
      "o: 10\n",
      "l: 11\n"
     ]
    }
   ],
   "source": [
    "text = \"hello\"\n",
    "freq_dict = {char: text.count(char) for char in set(text)}\n",
    "\n",
    "root = huffman_tree(freq_dict)\n",
    "codes = huffman_codes(root)\n",
    "\n",
    "for char, code in codes.items():\n",
    "    print(f'{char}: {code}')"
   ]
  },
  {
   "cell_type": "markdown",
   "id": "ed365549",
   "metadata": {},
   "source": [
    "Пишем unittest для проверки нашей программы "
   ]
  },
  {
   "cell_type": "code",
   "execution_count": 8,
   "id": "2959d5d0",
   "metadata": {},
   "outputs": [
    {
     "name": "stderr",
     "output_type": "stream",
     "text": [
      "E\n",
      "======================================================================\n",
      "ERROR: C:\\Users\\1\\AppData\\Roaming\\jupyter\\runtime\\kernel-6429e29f-062f-4801-8657-5916b4199352 (unittest.loader._FailedTest)\n",
      "----------------------------------------------------------------------\n",
      "AttributeError: module '__main__' has no attribute 'C:\\Users\\1\\AppData\\Roaming\\jupyter\\runtime\\kernel-6429e29f-062f-4801-8657-5916b4199352'\n",
      "\n",
      "----------------------------------------------------------------------\n",
      "Ran 1 test in 0.001s\n",
      "\n",
      "FAILED (errors=1)\n"
     ]
    },
    {
     "ename": "SystemExit",
     "evalue": "True",
     "output_type": "error",
     "traceback": [
      "An exception has occurred, use %tb to see the full traceback.\n",
      "\u001b[1;31mSystemExit\u001b[0m\u001b[1;31m:\u001b[0m True\n"
     ]
    },
    {
     "name": "stderr",
     "output_type": "stream",
     "text": [
      "C:\\ProgramData\\Anaconda3\\lib\\site-packages\\IPython\\core\\interactiveshell.py:3452: UserWarning: To exit: use 'exit', 'quit', or Ctrl-D.\n",
      "  warn(\"To exit: use 'exit', 'quit', or Ctrl-D.\", stacklevel=1)\n"
     ]
    }
   ],
   "source": [
    "import unittest\n",
    "\n",
    "class TestHuffman(unittest.TestCase):\n",
    "\n",
    "    def huffman_algorithm(self):\n",
    "        text = \"hello\"\n",
    "        freq_dict = {char: text.count(char) for char in set(text)}\n",
    "\n",
    "        root = huffman_tree(freq_dict)\n",
    "        codes = huffman_codes(root)\n",
    "\n",
    "        expected_codes = {'e': '00', 'h': '01', 'o': '10', 'l': '11'}\n",
    "\n",
    "        for char, code in expected_codes.items():\n",
    "            self.assertEqual(codes[char], code)\n",
    "\n",
    "if __name__ == '__main__':\n",
    "    unittest.main()"
   ]
  }
 ],
 "metadata": {
  "kernelspec": {
   "display_name": "Python 3 (ipykernel)",
   "language": "python",
   "name": "python3"
  },
  "language_info": {
   "codemirror_mode": {
    "name": "ipython",
    "version": 3
   },
   "file_extension": ".py",
   "mimetype": "text/x-python",
   "name": "python",
   "nbconvert_exporter": "python",
   "pygments_lexer": "ipython3",
   "version": "3.9.7"
  }
 },
 "nbformat": 4,
 "nbformat_minor": 5
}
